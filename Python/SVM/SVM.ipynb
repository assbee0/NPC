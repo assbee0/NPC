{
 "cells": [
  {
   "cell_type": "code",
   "execution_count": 1,
   "metadata": {},
   "outputs": [
    {
     "name": "stdout",
     "output_type": "stream",
     "text": [
      "[[ 1.  1.]\n",
      " [ 6.  5.]\n",
      " [ 8.  9.]\n",
      " [ 2.  2.]\n",
      " [ 5.  6.]\n",
      " [ 8.  9.]\n",
      " [ 1.  2.]\n",
      " [ 7.  5.]\n",
      " [ 9. 10.]\n",
      " [ 1.  1.]\n",
      " [ 6.  4.]\n",
      " [ 8. 10.]\n",
      " [ 3.  1.]\n",
      " [ 5.  6.]\n",
      " [ 8. 10.]\n",
      " [ 2.  1.]\n",
      " [ 7.  5.]\n",
      " [ 9.  8.]\n",
      " [ 3.  2.]\n",
      " [ 6.  5.]\n",
      " [ 9. 10.]\n",
      " [ 2.  2.]\n",
      " [ 4.  6.]\n",
      " [ 7.  9.]]\n"
     ]
    }
   ],
   "source": [
    "# -*- coding: utf-8 -*-\n",
    "%matplotlib inline\n",
    "\n",
    "#必要なライブラリを import \n",
    "from sklearn import datasets\n",
    "import numpy as np\n",
    "\n",
    "# 訓練用データの取得\n",
    "data_train = np.loadtxt('Adata_train.csv', delimiter=',', encoding='utf-8_sig')\n",
    "y_train = data_train[:,0].astype(int)\n",
    "X_train = data_train[:,1:3] # 5個のパラメタ想定\n",
    "\n",
    "# テスト用データの取得\n",
    "data_test = np.loadtxt('Adata_test.csv', delimiter=',', encoding='utf-8_sig') \n",
    "y_test = data_test[:,0].astype(int)\n",
    "X_test = data_test[:,1:3] # 5個のパラメタ想定\n",
    "print(X_train)"
   ]
  },
  {
   "cell_type": "code",
   "execution_count": 2,
   "metadata": {},
   "outputs": [],
   "source": [
    "from sklearn.model_selection import train_test_split\n",
    "from sklearn.preprocessing import StandardScaler \n",
    "\n",
    "# データの標準化処理\n",
    "#sc = StandardScaler()\n",
    "#sc.fit(X_train)\n",
    "#X_train_std = sc.transform(X_train)\n",
    "#X_test_std = sc.transform(X_test)"
   ]
  },
  {
   "cell_type": "code",
   "execution_count": 3,
   "metadata": {},
   "outputs": [
    {
     "data": {
      "text/plain": [
       "OneVsRestClassifier(estimator=SVC(class_weight='balanced', gamma=0.5,\n",
       "                                  kernel='linear', random_state=0))"
      ]
     },
     "execution_count": 3,
     "metadata": {},
     "output_type": "execute_result"
    }
   ],
   "source": [
    "from sklearn.svm import SVC\n",
    "\n",
    "from sklearn.datasets import load_digits\n",
    "from sklearn.multiclass import OneVsRestClassifier\n",
    "from sklearn.svm import SVC\n",
    "#from sklearn.cross_validation import train_test_split\n",
    "from sklearn.metrics import accuracy_score\n",
    "\n",
    "# 線形SVMのインスタンスを生成\n",
    "estimator = SVC(kernel='linear', gamma=1/2 , C=1.0,class_weight='balanced', random_state=0)\n",
    "model = OneVsRestClassifier(estimator)\n",
    "\n",
    "# モデルの学習。fit関数で行う。\n",
    "#model.fit(X_train_std, y_train)\n",
    "model.fit(X_train, y_train)"
   ]
  },
  {
   "cell_type": "code",
   "execution_count": 4,
   "metadata": {},
   "outputs": [
    {
     "name": "stdout",
     "output_type": "stream",
     "text": [
      "トレーニングデータに対する正解率： 0.96\n",
      "テストデータに対する正解率： 0.67\n"
     ]
    }
   ],
   "source": [
    "from sklearn.metrics import accuracy_score\n",
    "\n",
    "# トレーニングデータに対する精度\n",
    "#pred_train = model.predict(X_train_std)\n",
    "pred_train = model.predict(X_train)\n",
    "accuracy_train = accuracy_score(y_train, pred_train)\n",
    "print('トレーニングデータに対する正解率： %.2f' % accuracy_train)\n",
    "\n",
    "# テストデータに対する精度\n",
    "#pred_test = model.predict(X_test_std)\n",
    "pred_test = model.predict(X_test)\n",
    "accuracy_test = accuracy_score(y_test, pred_test)\n",
    "print('テストデータに対する正解率： %.2f' % accuracy_test)"
   ]
  },
  {
   "cell_type": "code",
   "execution_count": 5,
   "metadata": {},
   "outputs": [
    {
     "data": {
      "image/png": "[encoded data removed]",
      "text/plain": [
       "<Figure size 936x576 with 1 Axes>"
      ]
     },
     "metadata": {},
     "output_type": "display_data"
    },
    {
     "name": "stdout",
     "output_type": "stream",
     "text": [
      "---トレーニングデータに対する評価------\n",
      "正解率： 0.96\n",
      "再現率：\n",
      "[1.    0.875 1.   ]\n",
      "適合率：\n",
      "[0.88888889 1.         1.        ]\n",
      "F値：\n",
      "[0.94117647 0.93333333 1.        ]\n",
      "---テストデータに対する評価------\n",
      "正解率： 0.67\n",
      "再現率：\n",
      "[1. 0. 1.]\n",
      "適合率：\n",
      "[0.5 0.  1. ]\n",
      "F値：\n",
      "[0.66666667 0.         1.        ]\n"
     ]
    },
    {
     "name": "stderr",
     "output_type": "stream",
     "text": [
      "C:\\Users\\Administrator\\anaconda3\\lib\\site-packages\\sklearn\\metrics\\_classification.py:1221: UndefinedMetricWarning: Precision is ill-defined and being set to 0.0 in labels with no predicted samples. Use `zero_division` parameter to control this behavior.\n",
      "  _warn_prf(average, modifier, msg_start, len(result))\n"
     ]
    }
   ],
   "source": [
    "#分類結果を図示する\n",
    "import matplotlib.pyplot as plt\n",
    "from mlxtend.plotting import plot_decision_regions\n",
    "plt.style.use('ggplot') \n",
    "\n",
    "#X_combined_std = np.vstack((X_train_std, X_test_std))\n",
    "X_combined = np.vstack((X_train, X_test))\n",
    "y_combined = np.hstack((y_train, y_test))\n",
    "\n",
    "fig = plt.figure(figsize=(13,8))\n",
    "# 要修正\n",
    "plot_decision_regions(X_combined, y_combined, clf=model,  res=0.02)\n",
    "plt.show()\n",
    "\n",
    "train = y_train\n",
    "pred = pred_train\n",
    "name = [0,1,2]\n",
    "\n",
    "print(\"---トレーニングデータに対する評価------\")\n",
    "from sklearn.metrics import confusion_matrix\n",
    "val_mat = confusion_matrix(train, pred, labels=name)\n",
    "from sklearn.metrics import accuracy_score\n",
    "acc_score = accuracy_score(train, pred)\n",
    "print(\"正解率： %.2f\" % acc_score)\n",
    "from sklearn.metrics import recall_score\n",
    "rec_score = recall_score(train, pred, average=None)\n",
    "print(\"再現率：\")\n",
    "print(rec_score)\n",
    "from sklearn.metrics import precision_score\n",
    "pre_score = precision_score(train, pred, average=None)\n",
    "print(\"適合率：\")\n",
    "print(pre_score)\n",
    "from sklearn.metrics import f1_score\n",
    "f1_score = f1_score(train, pred, average=None)\n",
    "print(\"F値：\")\n",
    "print(f1_score)\n",
    "\n",
    "train = y_test\n",
    "pred = pred_test\n",
    "name = [0,1,2]\n",
    "\n",
    "print(\"---テストデータに対する評価------\")\n",
    "from sklearn.metrics import confusion_matrix\n",
    "val_mat = confusion_matrix(train, pred, labels=name)\n",
    "from sklearn.metrics import accuracy_score\n",
    "acc_score = accuracy_score(train, pred)\n",
    "print(\"正解率： %.2f\" % acc_score)\n",
    "from sklearn.metrics import recall_score\n",
    "rec_score = recall_score(train, pred, average=None)\n",
    "print(\"再現率：\")\n",
    "print(rec_score)\n",
    "from sklearn.metrics import precision_score\n",
    "pre_score = precision_score(train, pred, average=None)\n",
    "print(\"適合率：\")\n",
    "print(pre_score)\n",
    "from sklearn.metrics import f1_score\n",
    "f1_score = f1_score(train, pred, average=None)\n",
    "print(\"F値：\")\n",
    "print(f1_score)"
   ]
  },
  {
   "cell_type": "code",
   "execution_count": 6,
   "metadata": {},
   "outputs": [],
   "source": [
    "# 書き出し\n",
    "import os\n",
    "path_w = './../../Assets/SVM/Parameters'\n",
    "\n",
    "np.savetxt(os.path.join(path_w, 'A_coef.txt'), model.coef_, fmt='%0.18f')\n",
    "np.savetxt(os.path.join(path_w, 'A_intercept.txt'), model.intercept_, fmt='%0.18f')\n",
    "#np.savetxt(os.path.join(path_w, 'supportVector.txt'), model.support_vectors_, fmt='%0.18f')\n",
    "#np.savetxt(os.path.join(path_w, 'dualCoef.txt'), model.dual_coef_, fmt='%0.18f')"
   ]
  },
  {
   "cell_type": "code",
   "execution_count": 7,
   "metadata": {
    "scrolled": false
   },
   "outputs": [],
   "source": [
    "# WX+b=0のW (kernel=\"linear\"のときのみ利用可)\n",
    "#print(len(model.coef_))\n",
    "#print(model.coef_)"
   ]
  },
  {
   "cell_type": "code",
   "execution_count": 8,
   "metadata": {},
   "outputs": [],
   "source": [
    "# WX+b=0のb\n",
    "#print(len(model.intercept_))\n",
    "#print(model.intercept_)"
   ]
  },
  {
   "cell_type": "code",
   "execution_count": 9,
   "metadata": {},
   "outputs": [],
   "source": [
    "# サポートベクタ\n",
    "#print(len(model.support_vectors_))\n",
    "#print(model.support_vectors_)"
   ]
  },
  {
   "cell_type": "code",
   "execution_count": 10,
   "metadata": {
    "scrolled": true
   },
   "outputs": [],
   "source": [
    "# サポートベクタとの乗算でW\n",
    "#print(len(model.dual_coef_))\n",
    "#print(model.dual_coef_)"
   ]
  },
  {
   "cell_type": "code",
   "execution_count": 11,
   "metadata": {},
   "outputs": [
    {
     "name": "stdout",
     "output_type": "stream",
     "text": [
      "トレーニングデータに対する正解率： 1.00\n",
      "テストデータに対する正解率： 1.00\n"
     ]
    },
    {
     "data": {
      "image/png": "[encoded data removed]",
      "text/plain": [
       "<Figure size 936x576 with 1 Axes>"
      ]
     },
     "metadata": {},
     "output_type": "display_data"
    },
    {
     "name": "stdout",
     "output_type": "stream",
     "text": [
      "---トレーニングデータに対する評価------\n",
      "正解率： 1.00\n",
      "再現率：\n",
      "[1. 1. 1.]\n",
      "適合率：\n",
      "[1. 1. 1.]\n",
      "F値：\n",
      "[1. 1. 1.]\n",
      "---テストデータに対する評価------\n",
      "正解率： 1.00\n",
      "再現率：\n",
      "[1. 1. 1.]\n",
      "適合率：\n",
      "[1. 1. 1.]\n",
      "F値：\n",
      "[1. 1. 1.]\n"
     ]
    }
   ],
   "source": [
    "# Valenceに対しても同様\n",
    "\n",
    "#必要なライブラリを import \n",
    "from sklearn import datasets\n",
    "import numpy as np\n",
    "\n",
    "# 訓練用データの取得\n",
    "data_train = np.loadtxt('Vdata_train.csv', delimiter=',', encoding='utf-8_sig')\n",
    "y_train = data_train[:,0].astype(int)\n",
    "X_train = data_train[:,1:3] # 5個のパラメタ想定\n",
    "\n",
    "# テスト用データの取得\n",
    "data_test = np.loadtxt('Vdata_test.csv', delimiter=',', encoding='utf-8_sig') \n",
    "y_test = data_test[:,0].astype(int)\n",
    "X_test = data_test[:,1:3] # 3個のパラメタ想定\n",
    "\n",
    "\n",
    "from sklearn.model_selection import train_test_split\n",
    "from sklearn.preprocessing import StandardScaler \n",
    "\n",
    "# データの標準化処理\n",
    "#sc = StandardScaler()\n",
    "#sc.fit(X_train)\n",
    "#X_train_std = sc.transform(X_train)\n",
    "#X_test_std = sc.transform(X_test)\n",
    "\n",
    "\n",
    "from sklearn.svm import SVC\n",
    "\n",
    "from sklearn.datasets import load_digits\n",
    "from sklearn.multiclass import OneVsRestClassifier\n",
    "from sklearn.svm import SVC\n",
    "#from sklearn.cross_validation import train_test_split\n",
    "from sklearn.metrics import accuracy_score\n",
    "\n",
    "# 線形SVMのインスタンスを生成\n",
    "estimator = SVC(kernel='linear', gamma=1/2 , C=1.0,class_weight='balanced', random_state=0)\n",
    "model = OneVsRestClassifier(estimator)\n",
    "\n",
    "# モデルの学習。fit関数で行う。\n",
    "#model.fit(X_train_std, y_train)\n",
    "model.fit(X_train, y_train)\n",
    "\n",
    "from sklearn.metrics import accuracy_score\n",
    "\n",
    "# トレーニングデータに対する精度\n",
    "#pred_train = model.predict(X_train_std)\n",
    "pred_train = model.predict(X_train)\n",
    "accuracy_train = accuracy_score(y_train, pred_train)\n",
    "print('トレーニングデータに対する正解率： %.2f' % accuracy_train)\n",
    "\n",
    "# テストデータに対する精度\n",
    "#pred_test = model.predict(X_test_std)\n",
    "pred_test = model.predict(X_test)\n",
    "accuracy_test = accuracy_score(y_test, pred_test)\n",
    "print('テストデータに対する正解率： %.2f' % accuracy_test)\n",
    "\n",
    "\"\"\"\n",
    "#分類結果を図示する\n",
    "import matplotlib.pyplot as plt\n",
    "from mlxtend.plotting import plot_decision_regions\n",
    "plt.style.use('ggplot') \n",
    "\n",
    "X_combined_std = np.vstack((X_train_std, X_test_std))\n",
    "y_combined = np.hstack((y_train, y_test))\n",
    "\n",
    "fig = plt.figure(figsize=(13,8))\n",
    "plot_decision_regions(X_combined_std, y_combined, clf=model,  res=0.02)\n",
    "plt.show()\n",
    "\"\"\"\n",
    "\n",
    "#分類結果を図示する\n",
    "import matplotlib.pyplot as plt\n",
    "from mlxtend.plotting import plot_decision_regions\n",
    "plt.style.use('ggplot') \n",
    "\n",
    "#X_combined_std = np.vstack((X_train_std, X_test_std))\n",
    "X_combined = np.vstack((X_train, X_test))\n",
    "y_combined = np.hstack((y_train, y_test))\n",
    "\n",
    "fig = plt.figure(figsize=(13,8))\n",
    "# 要修正\n",
    "plot_decision_regions(X_combined, y_combined, clf=model,  res=0.02)\n",
    "plt.show()\n",
    "\n",
    "\n",
    "# 書き出し\n",
    "import os\n",
    "path_w = './../../Assets/SVM/Parameters'\n",
    "\n",
    "np.savetxt(os.path.join(path_w, 'V_coef.txt'), model.coef_, fmt='%0.18f')\n",
    "np.savetxt(os.path.join(path_w, 'V_intercept.txt'), model.intercept_, fmt='%0.18f')\n",
    "#np.savetxt(os.path.join(path_w, 'V_supportVector.txt'), model.support_vectors_, fmt='%0.18f')\n",
    "#np.savetxt(os.path.join(path_w, 'V_dualCoef.txt'), model.dual_coef_, fmt='%0.18f')\n",
    "\n",
    "train = y_train\n",
    "pred = pred_train\n",
    "name = [0,1,2]\n",
    "\n",
    "print(\"---トレーニングデータに対する評価------\")\n",
    "from sklearn.metrics import confusion_matrix\n",
    "val_mat = confusion_matrix(train, pred, labels=name)\n",
    "from sklearn.metrics import accuracy_score\n",
    "acc_score = accuracy_score(train, pred)\n",
    "print(\"正解率： %.2f\" % acc_score)\n",
    "from sklearn.metrics import recall_score\n",
    "rec_score = recall_score(train, pred, average=None)\n",
    "print(\"再現率：\")\n",
    "print(rec_score)\n",
    "from sklearn.metrics import precision_score\n",
    "pre_score = precision_score(train, pred, average=None)\n",
    "print(\"適合率：\")\n",
    "print(pre_score)\n",
    "from sklearn.metrics import f1_score\n",
    "f1_score = f1_score(train, pred, average=None)\n",
    "print(\"F値：\")\n",
    "print(f1_score)\n",
    "\n",
    "train = y_test\n",
    "pred = pred_test\n",
    "name = [0,1,2]\n",
    "\n",
    "print(\"---テストデータに対する評価------\")\n",
    "from sklearn.metrics import confusion_matrix\n",
    "val_mat = confusion_matrix(train, pred, labels=name)\n",
    "from sklearn.metrics import accuracy_score\n",
    "acc_score = accuracy_score(train, pred)\n",
    "print(\"正解率： %.2f\" % acc_score)\n",
    "from sklearn.metrics import recall_score\n",
    "rec_score = recall_score(train, pred, average=None)\n",
    "print(\"再現率：\")\n",
    "print(rec_score)\n",
    "from sklearn.metrics import precision_score\n",
    "pre_score = precision_score(train, pred, average=None)\n",
    "print(\"適合率：\")\n",
    "print(pre_score)\n",
    "from sklearn.metrics import f1_score\n",
    "f1_score = f1_score(train, pred, average=None)\n",
    "print(\"F値：\")\n",
    "print(f1_score)"
   ]
  }
 ],
 "metadata": {
  "kernelspec": {
   "display_name": "Python 3",
   "language": "python",
   "name": "python3"
  },
  "language_info": {
   "codemirror_mode": {
    "name": "ipython",
    "version": 3
   },
   "file_extension": ".py",
   "mimetype": "text/x-python",
   "name": "python",
   "nbconvert_exporter": "python",
   "pygments_lexer": "ipython3",
   "version": "3.8.5"
  }
 },
 "nbformat": 4,
 "nbformat_minor": 4
}

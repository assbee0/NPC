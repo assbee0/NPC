{
 "cells": [
  {
   "cell_type": "code",
   "execution_count": 1,
   "metadata": {},
   "outputs": [],
   "source": [
    "# -*- coding: utf-8 -*-\n",
    "%matplotlib inline\n",
    "\n",
    "#必要なライブラリを import \n",
    "from sklearn import datasets\n",
    "import numpy as np\n",
    "\n",
    "# 訓練用データの取得\n",
    "data_train = np.loadtxt('Adata_train.csv', delimiter=',', encoding='utf-8_sig')\n",
    "y_train = data_train[:,0].astype(int)\n",
    "X_train = data_train[:,1:3]\n",
    "\n",
    "# テスト用データの取得\n",
    "data_test = np.loadtxt('Adata_test.csv', delimiter=',', encoding='utf-8_sig') \n",
    "y_test = data_test[:,0].astype(int)\n",
    "X_test = data_test[:,1:3]"
   ]
  },
  {
   "cell_type": "code",
   "execution_count": 2,
   "metadata": {},
   "outputs": [],
   "source": [
    "from sklearn.model_selection import train_test_split\n",
    "from sklearn.preprocessing import StandardScaler \n",
    "\n",
    "# データの標準化処理\n",
    "sc = StandardScaler()\n",
    "sc.fit(X_train)\n",
    "X_train_std = sc.transform(X_train)\n",
    "X_test_std = sc.transform(X_test)"
   ]
  },
  {
   "cell_type": "code",
   "execution_count": 3,
   "metadata": {},
   "outputs": [
    {
     "data": {
      "text/plain": [
       "OneVsRestClassifier(estimator=SVC(class_weight='balanced', gamma=0.5,\n",
       "                                  kernel='linear', random_state=0))"
      ]
     },
     "execution_count": 3,
     "metadata": {},
     "output_type": "execute_result"
    }
   ],
   "source": [
    "from sklearn.svm import SVC\n",
    "\n",
    "from sklearn.datasets import load_digits\n",
    "from sklearn.multiclass import OneVsRestClassifier\n",
    "from sklearn.svm import SVC\n",
    "#from sklearn.cross_validation import train_test_split\n",
    "from sklearn.metrics import accuracy_score\n",
    "\n",
    "# 線形SVMのインスタンスを生成\n",
    "estimator = SVC(kernel='linear', gamma=1/2 , C=1.0,class_weight='balanced', random_state=0)\n",
    "model = OneVsRestClassifier(estimator)\n",
    "\n",
    "# モデルの学習。fit関数で行う。\n",
    "model.fit(X_train_std, y_train)"
   ]
  },
  {
   "cell_type": "code",
   "execution_count": 4,
   "metadata": {},
   "outputs": [
    {
     "name": "stdout",
     "output_type": "stream",
     "text": [
      "トレーニングデータに対する正解率： 0.75\n",
      "テストデータに対する正解率： 0.67\n"
     ]
    }
   ],
   "source": [
    "from sklearn.metrics import accuracy_score\n",
    "\n",
    "# トレーニングデータに対する精度\n",
    "pred_train = model.predict(X_train_std)\n",
    "accuracy_train = accuracy_score(y_train, pred_train)\n",
    "print('トレーニングデータに対する正解率： %.2f' % accuracy_train)\n",
    "\n",
    "# テストデータに対する精度\n",
    "pred_test = model.predict(X_test_std)\n",
    "accuracy_test = accuracy_score(y_test, pred_test)\n",
    "print('テストデータに対する正解率： %.2f' % accuracy_test)"
   ]
  },
  {
   "cell_type": "code",
   "execution_count": 5,
   "metadata": {},
   "outputs": [
    {
     "data": {
      "image/png": "[encoded data removed]",
      "text/plain": [
       "<Figure size 936x576 with 1 Axes>"
      ]
     },
     "metadata": {},
     "output_type": "display_data"
    }
   ],
   "source": [
    "#分類結果を図示する\n",
    "import matplotlib.pyplot as plt\n",
    "from mlxtend.plotting import plot_decision_regions\n",
    "plt.style.use('ggplot') \n",
    "\n",
    "X_combined_std = np.vstack((X_train_std, X_test_std))\n",
    "y_combined = np.hstack((y_train, y_test))\n",
    "\n",
    "fig = plt.figure(figsize=(13,8))\n",
    "plot_decision_regions(X_combined_std, y_combined, clf=model,  res=0.02)\n",
    "plt.show()"
   ]
  },
  {
   "cell_type": "code",
   "execution_count": 6,
   "metadata": {},
   "outputs": [],
   "source": [
    "# 書き出し\n",
    "import os\n",
    "path_w = './../Assets/SVM/Parameters'\n",
    "\n",
    "np.savetxt(os.path.join(path_w, 'A_coef.txt'), model.coef_, fmt='%0.18f')\n",
    "np.savetxt(os.path.join(path_w, 'A_intercept.txt'), model.intercept_, fmt='%0.18f')\n",
    "#np.savetxt(os.path.join(path_w, 'supportVector.txt'), model.support_vectors_, fmt='%0.18f')\n",
    "#np.savetxt(os.path.join(path_w, 'dualCoef.txt'), model.dual_coef_, fmt='%0.18f')"
   ]
  },
  {
   "cell_type": "code",
   "execution_count": 7,
   "metadata": {
    "scrolled": false
   },
   "outputs": [],
   "source": [
    "# WX+b=0のW (kernel=\"linear\"のときのみ利用可)\n",
    "#print(len(model.coef_))\n",
    "#print(model.coef_)"
   ]
  },
  {
   "cell_type": "code",
   "execution_count": 8,
   "metadata": {},
   "outputs": [],
   "source": [
    "# WX+b=0のb\n",
    "#print(len(model.intercept_))\n",
    "#print(model.intercept_)"
   ]
  },
  {
   "cell_type": "code",
   "execution_count": 9,
   "metadata": {},
   "outputs": [],
   "source": [
    "# サポートベクタ\n",
    "#print(len(model.support_vectors_))\n",
    "#print(model.support_vectors_)"
   ]
  },
  {
   "cell_type": "code",
   "execution_count": 10,
   "metadata": {
    "scrolled": true
   },
   "outputs": [],
   "source": [
    "# サポートベクタとの乗算でW\n",
    "#print(len(model.dual_coef_))\n",
    "#print(model.dual_coef_)"
   ]
  },
  {
   "cell_type": "code",
   "execution_count": 11,
   "metadata": {},
   "outputs": [
    {
     "name": "stdout",
     "output_type": "stream",
     "text": [
      "トレーニングデータに対する正解率： 0.79\n",
      "テストデータに対する正解率： 1.00\n"
     ]
    }
   ],
   "source": [
    "# Valenceに対しても同様\n",
    "\n",
    "#必要なライブラリを import \n",
    "from sklearn import datasets\n",
    "import numpy as np\n",
    "\n",
    "# 訓練用データの取得\n",
    "data_train = np.loadtxt('Vdata_train.csv', delimiter=',', encoding='utf-8_sig')\n",
    "y_train = data_train[:,0].astype(int)\n",
    "X_train = data_train[:,1:3]\n",
    "\n",
    "# テスト用データの取得\n",
    "data_test = np.loadtxt('Vdata_test.csv', delimiter=',', encoding='utf-8_sig') \n",
    "y_test = data_test[:,0].astype(int)\n",
    "X_test = data_test[:,1:3]\n",
    "\n",
    "\n",
    "from sklearn.model_selection import train_test_split\n",
    "from sklearn.preprocessing import StandardScaler \n",
    "\n",
    "# データの標準化処理\n",
    "sc = StandardScaler()\n",
    "sc.fit(X_train)\n",
    "X_train_std = sc.transform(X_train)\n",
    "X_test_std = sc.transform(X_test)\n",
    "\n",
    "\n",
    "from sklearn.svm import SVC\n",
    "\n",
    "from sklearn.datasets import load_digits\n",
    "from sklearn.multiclass import OneVsRestClassifier\n",
    "from sklearn.svm import SVC\n",
    "#from sklearn.cross_validation import train_test_split\n",
    "from sklearn.metrics import accuracy_score\n",
    "\n",
    "# 線形SVMのインスタンスを生成\n",
    "estimator = SVC(kernel='linear', gamma=1/2 , C=1.0,class_weight='balanced', random_state=0)\n",
    "model = OneVsRestClassifier(estimator)\n",
    "\n",
    "# モデルの学習。fit関数で行う。\n",
    "model.fit(X_train_std, y_train)\n",
    "\n",
    "\n",
    "from sklearn.metrics import accuracy_score\n",
    "\n",
    "# トレーニングデータに対する精度\n",
    "pred_train = model.predict(X_train_std)\n",
    "accuracy_train = accuracy_score(y_train, pred_train)\n",
    "print('トレーニングデータに対する正解率： %.2f' % accuracy_train)\n",
    "\n",
    "# テストデータに対する精度\n",
    "pred_test = model.predict(X_test_std)\n",
    "accuracy_test = accuracy_score(y_test, pred_test)\n",
    "print('テストデータに対する正解率： %.2f' % accuracy_test)\n",
    "\n",
    "\"\"\"\n",
    "#分類結果を図示する\n",
    "import matplotlib.pyplot as plt\n",
    "from mlxtend.plotting import plot_decision_regions\n",
    "plt.style.use('ggplot') \n",
    "\n",
    "X_combined_std = np.vstack((X_train_std, X_test_std))\n",
    "y_combined = np.hstack((y_train, y_test))\n",
    "\n",
    "fig = plt.figure(figsize=(13,8))\n",
    "plot_decision_regions(X_combined_std, y_combined, clf=model,  res=0.02)\n",
    "plt.show()\n",
    "\"\"\"\n",
    "\n",
    "# 書き出し\n",
    "import os\n",
    "path_w = './../Assets/SVM/Parameters'\n",
    "\n",
    "np.savetxt(os.path.join(path_w, 'V_coef.txt'), model.coef_, fmt='%0.18f')\n",
    "np.savetxt(os.path.join(path_w, 'V_intercept.txt'), model.intercept_, fmt='%0.18f')\n",
    "#np.savetxt(os.path.join(path_w, 'V_supportVector.txt'), model.support_vectors_, fmt='%0.18f')\n",
    "#np.savetxt(os.path.join(path_w, 'V_dualCoef.txt'), model.dual_coef_, fmt='%0.18f')"
   ]
  }
 ],
 "metadata": {
  "kernelspec": {
   "display_name": "Python 3",
   "language": "python",
   "name": "python3"
  },
  "language_info": {
   "codemirror_mode": {
    "name": "ipython",
    "version": 3
   },
   "file_extension": ".py",
   "mimetype": "text/x-python",
   "name": "python",
   "nbconvert_exporter": "python",
   "pygments_lexer": "ipython3",
   "version": "3.8.5"
  }
 },
 "nbformat": 4,
 "nbformat_minor": 4
}
